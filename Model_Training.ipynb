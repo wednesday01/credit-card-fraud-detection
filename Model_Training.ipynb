{
 "cells": [
  {
   "cell_type": "code",
   "execution_count": 1,
   "id": "3ce3afb7",
   "metadata": {},
   "outputs": [],
   "source": [
    "import pandas as pd\n",
    "import numpy as np\n",
    "import matplotlib.pyplot as plt\n",
    "import seaborn as sns\n",
    "from sklearn.model_selection import train_test_split\n",
    "from sklearn.preprocessing import StandardScaler\n",
    "from sklearn.linear_model import LogisticRegression\n",
    "from sklearn.ensemble import RandomForestClassifier\n",
    "from sklearn.metrics import classification_report, confusion_matrix, roc_auc_score, roc_curve\n",
    "from imblearn.over_sampling import SMOTE \n",
    "import pickle\n",
    "import warnings\n",
    "warnings.filterwarnings(\"ignore\") \n",
    "\n",
    "# --- Configuration ---\n",
    "CLEAN_DATA_FILE = 'fraud_Train_cleaned_.csv'\n",
    "TARGET_COLUMN = 'is_fraud'"
   ]
  },
  {
   "cell_type": "code",
   "execution_count": 2,
   "id": "bc6ae8d4",
   "metadata": {},
   "outputs": [
    {
     "name": "stdout",
     "output_type": "stream",
     "text": [
      "Cleaned data 'fraud_Train_cleaned_.csv' loaded successfully. Shape: (1296675, 74)\n"
     ]
    },
    {
     "data": {
      "text/html": [
       "<div>\n",
       "<style scoped>\n",
       "    .dataframe tbody tr th:only-of-type {\n",
       "        vertical-align: middle;\n",
       "    }\n",
       "\n",
       "    .dataframe tbody tr th {\n",
       "        vertical-align: top;\n",
       "    }\n",
       "\n",
       "    .dataframe thead th {\n",
       "        text-align: right;\n",
       "    }\n",
       "</style>\n",
       "<table border=\"1\" class=\"dataframe\">\n",
       "  <thead>\n",
       "    <tr style=\"text-align: right;\">\n",
       "      <th></th>\n",
       "      <th>amt</th>\n",
       "      <th>gender</th>\n",
       "      <th>zip</th>\n",
       "      <th>city_pop</th>\n",
       "      <th>unix_time</th>\n",
       "      <th>is_fraud</th>\n",
       "      <th>hour</th>\n",
       "      <th>day_of_week</th>\n",
       "      <th>month</th>\n",
       "      <th>age</th>\n",
       "      <th>...</th>\n",
       "      <th>state_SD</th>\n",
       "      <th>state_TN</th>\n",
       "      <th>state_TX</th>\n",
       "      <th>state_UT</th>\n",
       "      <th>state_VA</th>\n",
       "      <th>state_VT</th>\n",
       "      <th>state_WA</th>\n",
       "      <th>state_WI</th>\n",
       "      <th>state_WV</th>\n",
       "      <th>state_WY</th>\n",
       "    </tr>\n",
       "  </thead>\n",
       "  <tbody>\n",
       "    <tr>\n",
       "      <th>0</th>\n",
       "      <td>4.97</td>\n",
       "      <td>0</td>\n",
       "      <td>28654</td>\n",
       "      <td>3495</td>\n",
       "      <td>1325376018</td>\n",
       "      <td>0</td>\n",
       "      <td>0</td>\n",
       "      <td>1</td>\n",
       "      <td>1</td>\n",
       "      <td>30</td>\n",
       "      <td>...</td>\n",
       "      <td>0</td>\n",
       "      <td>0</td>\n",
       "      <td>0</td>\n",
       "      <td>0</td>\n",
       "      <td>0</td>\n",
       "      <td>0</td>\n",
       "      <td>0</td>\n",
       "      <td>0</td>\n",
       "      <td>0</td>\n",
       "      <td>0</td>\n",
       "    </tr>\n",
       "    <tr>\n",
       "      <th>1</th>\n",
       "      <td>107.23</td>\n",
       "      <td>0</td>\n",
       "      <td>99160</td>\n",
       "      <td>149</td>\n",
       "      <td>1325376044</td>\n",
       "      <td>0</td>\n",
       "      <td>0</td>\n",
       "      <td>1</td>\n",
       "      <td>1</td>\n",
       "      <td>40</td>\n",
       "      <td>...</td>\n",
       "      <td>0</td>\n",
       "      <td>0</td>\n",
       "      <td>0</td>\n",
       "      <td>0</td>\n",
       "      <td>0</td>\n",
       "      <td>0</td>\n",
       "      <td>1</td>\n",
       "      <td>0</td>\n",
       "      <td>0</td>\n",
       "      <td>0</td>\n",
       "    </tr>\n",
       "    <tr>\n",
       "      <th>2</th>\n",
       "      <td>220.11</td>\n",
       "      <td>1</td>\n",
       "      <td>83252</td>\n",
       "      <td>4154</td>\n",
       "      <td>1325376051</td>\n",
       "      <td>0</td>\n",
       "      <td>0</td>\n",
       "      <td>1</td>\n",
       "      <td>1</td>\n",
       "      <td>56</td>\n",
       "      <td>...</td>\n",
       "      <td>0</td>\n",
       "      <td>0</td>\n",
       "      <td>0</td>\n",
       "      <td>0</td>\n",
       "      <td>0</td>\n",
       "      <td>0</td>\n",
       "      <td>0</td>\n",
       "      <td>0</td>\n",
       "      <td>0</td>\n",
       "      <td>0</td>\n",
       "    </tr>\n",
       "    <tr>\n",
       "      <th>3</th>\n",
       "      <td>45.00</td>\n",
       "      <td>1</td>\n",
       "      <td>59632</td>\n",
       "      <td>1939</td>\n",
       "      <td>1325376076</td>\n",
       "      <td>0</td>\n",
       "      <td>0</td>\n",
       "      <td>1</td>\n",
       "      <td>1</td>\n",
       "      <td>51</td>\n",
       "      <td>...</td>\n",
       "      <td>0</td>\n",
       "      <td>0</td>\n",
       "      <td>0</td>\n",
       "      <td>0</td>\n",
       "      <td>0</td>\n",
       "      <td>0</td>\n",
       "      <td>0</td>\n",
       "      <td>0</td>\n",
       "      <td>0</td>\n",
       "      <td>0</td>\n",
       "    </tr>\n",
       "    <tr>\n",
       "      <th>4</th>\n",
       "      <td>41.96</td>\n",
       "      <td>1</td>\n",
       "      <td>24433</td>\n",
       "      <td>99</td>\n",
       "      <td>1325376186</td>\n",
       "      <td>0</td>\n",
       "      <td>0</td>\n",
       "      <td>1</td>\n",
       "      <td>1</td>\n",
       "      <td>32</td>\n",
       "      <td>...</td>\n",
       "      <td>0</td>\n",
       "      <td>0</td>\n",
       "      <td>0</td>\n",
       "      <td>0</td>\n",
       "      <td>1</td>\n",
       "      <td>0</td>\n",
       "      <td>0</td>\n",
       "      <td>0</td>\n",
       "      <td>0</td>\n",
       "      <td>0</td>\n",
       "    </tr>\n",
       "  </tbody>\n",
       "</table>\n",
       "<p>5 rows × 74 columns</p>\n",
       "</div>"
      ],
      "text/plain": [
       "      amt  gender    zip  city_pop   unix_time  is_fraud  hour  day_of_week  \\\n",
       "0    4.97       0  28654      3495  1325376018         0     0            1   \n",
       "1  107.23       0  99160       149  1325376044         0     0            1   \n",
       "2  220.11       1  83252      4154  1325376051         0     0            1   \n",
       "3   45.00       1  59632      1939  1325376076         0     0            1   \n",
       "4   41.96       1  24433        99  1325376186         0     0            1   \n",
       "\n",
       "   month  age  ...  state_SD  state_TN  state_TX  state_UT  state_VA  \\\n",
       "0      1   30  ...         0         0         0         0         0   \n",
       "1      1   40  ...         0         0         0         0         0   \n",
       "2      1   56  ...         0         0         0         0         0   \n",
       "3      1   51  ...         0         0         0         0         0   \n",
       "4      1   32  ...         0         0         0         0         1   \n",
       "\n",
       "   state_VT  state_WA  state_WI  state_WV  state_WY  \n",
       "0         0         0         0         0         0  \n",
       "1         0         1         0         0         0  \n",
       "2         0         0         0         0         0  \n",
       "3         0         0         0         0         0  \n",
       "4         0         0         0         0         0  \n",
       "\n",
       "[5 rows x 74 columns]"
      ]
     },
     "execution_count": 2,
     "metadata": {},
     "output_type": "execute_result"
    }
   ],
   "source": [
    "# Load the preprocessed data\n",
    "try:\n",
    "    df = pd.read_csv(CLEAN_DATA_FILE)\n",
    "    print(f\"Cleaned data '{CLEAN_DATA_FILE}' loaded successfully. Shape: {df.shape}\")\n",
    "except FileNotFoundError:\n",
    "    print(f\"ERROR: '{CLEAN_DATA_FILE}' not found. Please run '1_Preprocessing.ipynb' first.\")\n",
    "\n",
    "df.head()"
   ]
  },
  {
   "cell_type": "code",
   "execution_count": 3,
   "id": "bd4251d6",
   "metadata": {},
   "outputs": [
    {
     "name": "stdout",
     "output_type": "stream",
     "text": [
      "Features: 73, Target: is_fraud\n"
     ]
    }
   ],
   "source": [
    "# Separate features and target\n",
    "y = df[TARGET_COLUMN]\n",
    "X = df.drop(columns=[TARGET_COLUMN], errors='ignore')\n",
    "\n",
    "print(f\"Features: {X.shape[1]}, Target: {y.name}\")"
   ]
  },
  {
   "cell_type": "code",
   "execution_count": 4,
   "id": "7a873875",
   "metadata": {},
   "outputs": [
    {
     "name": "stdout",
     "output_type": "stream",
     "text": [
      "Training set shape: (1037340, 73)\n",
      "Testing set shape: (259335, 73)\n"
     ]
    }
   ],
   "source": [
    "# Split before scaling to prevent data leakage\n",
    "X_train, X_test, y_train, y_test = train_test_split(\n",
    "    X, y, \n",
    "    test_size=0.2, \n",
    "    random_state=42, \n",
    "    stratify=y  # Ensure fraud ratio is maintained\n",
    ")\n",
    "\n",
    "print(f\"Training set shape: {X_train.shape}\")\n",
    "print(f\"Testing set shape: {X_test.shape}\")"
   ]
  },
  {
   "cell_type": "code",
   "execution_count": 5,
   "id": "bc2ae352",
   "metadata": {},
   "outputs": [
    {
     "name": "stdout",
     "output_type": "stream",
     "text": [
      "Data scaled successfully.\n"
     ]
    }
   ],
   "source": [
    "# Fit scaler ONLY on training data\n",
    "scaler = StandardScaler()\n",
    "X_train_scaled = scaler.fit_transform(X_train)\n",
    "\n",
    "# Transform test data with the same scaler\n",
    "X_test_scaled = scaler.transform(X_test)\n",
    "\n",
    "print(\"Data scaled successfully.\")"
   ]
  },
  {
   "cell_type": "code",
   "execution_count": 6,
   "id": "c91e3ed9",
   "metadata": {},
   "outputs": [
    {
     "name": "stdout",
     "output_type": "stream",
     "text": [
      "Applying SMOTE to training data...\n",
      "Class distribution after SMOTE:\n",
      "is_fraud\n",
      "0    1031335\n",
      "1    1031335\n",
      "Name: count, dtype: int64\n"
     ]
    }
   ],
   "source": [
    "# Apply SMOTE only to the training data\n",
    "print(\"Applying SMOTE to training data...\")\n",
    "sm = SMOTE(sampling_strategy='minority', random_state=42)\n",
    "X_train_res, y_train_res = sm.fit_resample(X_train_scaled, y_train)\n",
    "\n",
    "print(\"Class distribution after SMOTE:\")\n",
    "print(y_train_res.value_counts())"
   ]
  },
  {
   "cell_type": "code",
   "execution_count": 7,
   "id": "c80dc230",
   "metadata": {},
   "outputs": [
    {
     "name": "stdout",
     "output_type": "stream",
     "text": [
      "--- 1. Training Random Forest ---\n",
      "--- 2. Training Logistic Regression ---\n",
      "Models trained.\n"
     ]
    }
   ],
   "source": [
    "print(\"--- 1. Training Random Forest ---\")\n",
    "rf_model = RandomForestClassifier(n_estimators=100, random_state=42, n_jobs=-1)\n",
    "rf_model.fit(X_train_res, y_train_res)\n",
    "rf_predictions = rf_model.predict(X_test_scaled)\n",
    "rf_probabilities = rf_model.predict_proba(X_test_scaled)[:, 1]\n",
    "\n",
    "print(\"--- 2. Training Logistic Regression ---\")\n",
    "lr_model = LogisticRegression(max_iter=1000, random_state=42, n_jobs=-1)\n",
    "lr_model.fit(X_train_res, y_train_res)\n",
    "lr_predictions = lr_model.predict(X_test_scaled)\n",
    "lr_probabilities = lr_model.predict_proba(X_test_scaled)[:, 1]\n",
    "\n",
    "print(\"Models trained.\")"
   ]
  },
  {
   "cell_type": "code",
   "execution_count": 8,
   "id": "f351c50f",
   "metadata": {},
   "outputs": [
    {
     "name": "stdout",
     "output_type": "stream",
     "text": [
      "\n",
      "--- Random Forest Results ---\n",
      "\n",
      "Classification Report:\n",
      "              precision    recall  f1-score   support\n",
      "\n",
      "   Valid (0)       1.00      1.00      1.00    257834\n",
      "   Fraud (1)       0.89      0.81      0.85      1501\n",
      "\n",
      "    accuracy                           1.00    259335\n",
      "   macro avg       0.95      0.91      0.93    259335\n",
      "weighted avg       1.00      1.00      1.00    259335\n",
      "\n",
      "AUC-ROC Score: 0.9932\n",
      "\n",
      "--- Logistic Regression Results ---\n",
      "\n",
      "Classification Report:\n",
      "              precision    recall  f1-score   support\n",
      "\n",
      "   Valid (0)       1.00      0.88      0.94    257834\n",
      "   Fraud (1)       0.04      0.76      0.07      1501\n",
      "\n",
      "    accuracy                           0.88    259335\n",
      "   macro avg       0.52      0.82      0.50    259335\n",
      "weighted avg       0.99      0.88      0.93    259335\n",
      "\n",
      "AUC-ROC Score: 0.9149\n"
     ]
    }
   ],
   "source": [
    "# Dictionary to store results\n",
    "results = {}\n",
    "\n",
    "def evaluate_model(model_name, y_true, y_pred, y_prob):\n",
    "    print(f\"\\n--- {model_name} Results ---\")\n",
    "    \n",
    "    auc_score = roc_auc_score(y_true, y_prob)\n",
    "    results[model_name] = {\n",
    "        'Recall': classification_report(y_true, y_pred, output_dict=True)['1']['recall'],\n",
    "        'Precision': classification_report(y_true, y_pred, output_dict=True)['1']['precision'],\n",
    "        'F1-Score': classification_report(y_true, y_pred, output_dict=True)['1']['f1-score'],\n",
    "        'AUC-ROC': auc_score\n",
    "    }\n",
    "    \n",
    "    print(\"\\nClassification Report:\")\n",
    "    print(classification_report(y_true, y_pred, target_names=['Valid (0)', 'Fraud (1)']))\n",
    "    print(f\"AUC-ROC Score: {auc_score:.4f}\")\n",
    "\n",
    "# Evaluate both models\n",
    "evaluate_model(\"Random Forest\", y_test, rf_predictions, rf_probabilities)\n",
    "evaluate_model(\"Logistic Regression\", y_test, lr_predictions, lr_probabilities)"
   ]
  },
  {
   "cell_type": "code",
   "execution_count": 9,
   "id": "9651f207",
   "metadata": {},
   "outputs": [
    {
     "name": "stdout",
     "output_type": "stream",
     "text": [
      "\n",
      "==================================================\n",
      "FINAL MODEL COMPARISON\n",
      "==================================================\n",
      "|                     |   Recall |   Precision |   F1-Score |   AUC-ROC |\n",
      "|:--------------------|---------:|------------:|-----------:|----------:|\n",
      "| Random Forest       |   0.8141 |      0.8933 |     0.8519 |    0.9932 |\n",
      "| Logistic Regression |   0.7615 |      0.0361 |     0.0689 |    0.9149 |\n"
     ]
    },
    {
     "data": {
      "image/png": "[encoded data removed]",
      "text/plain": [
       "<Figure size 800x600 with 1 Axes>"
      ]
     },
     "metadata": {},
     "output_type": "display_data"
    }
   ],
   "source": [
    "# --- Final Comparison Table ---\n",
    "comparison_df = pd.DataFrame(results).T\n",
    "print(\"\\n\" + \"=\"*50)\n",
    "print(\"FINAL MODEL COMPARISON\")\n",
    "print(\"=\"*50)\n",
    "print(comparison_df.sort_values(by='Recall', ascending=False).to_markdown(floatfmt=\".4f\"))\n",
    "\n",
    "# --- Plotting ROC Curves ---\n",
    "plt.figure(figsize=(8, 6))\n",
    "fpr_rf, tpr_rf, _ = roc_curve(y_test, rf_probabilities)\n",
    "plt.plot(fpr_rf, tpr_rf, label=f'Random Forest (AUC = {results[\"Random Forest\"][\"AUC-ROC\"]:.4f})')\n",
    "fpr_lr, tpr_lr, _ = roc_curve(y_test, lr_probabilities)\n",
    "plt.plot(fpr_lr, tpr_lr, label=f'Logistic Regression (AUC = {results[\"Logistic Regression\"][\"AUC-ROC\"]:.4f})')\n",
    "plt.plot([0, 1], [0, 1], 'k--', label='Baseline (AUC = 0.5)')\n",
    "plt.xlabel('False Positive Rate')\n",
    "plt.ylabel('True Positive Rate (Recall)')\n",
    "plt.title('ROC Curve Comparison')\n",
    "plt.legend()\n",
    "plt.show()"
   ]
  },
  {
   "cell_type": "code",
   "execution_count": 12,
   "id": "6fee5832",
   "metadata": {},
   "outputs": [
    {
     "name": "stdout",
     "output_type": "stream",
     "text": [
      "\n",
      "--- Saving Final Model, Scaler, and Features ---\n",
      "Model saved to rf_model.pkl\n",
      "Scaler saved to scaler.pkl\n",
      "Feature list saved to model_features.pkl\n"
     ]
    }
   ],
   "source": [
    "print(\"\\n--- Saving Final Model, Scaler, and Features ---\")\n",
    "\n",
    "# Get the feature names from the dataframe *before* scaling\n",
    "model_features = X.columns.tolist() \n",
    "\n",
    "# 1. Save the best model (Random Forest)\n",
    "with open('rf_model.pkl', 'wb') as f:\n",
    "    pickle.dump(rf_model, f)\n",
    "print(f\"Model saved to rf_model.pkl\")\n",
    "\n",
    "# 2. Save the scaler\n",
    "with open('scaler.pkl', 'wb') as f:\n",
    "    pickle.dump(scaler, f)\n",
    "print(f\"Scaler saved to scaler.pkl\")\n",
    "\n",
    "# 3. Save the feature list (THIS IS THE FIX)\n",
    "with open('model_features.pkl', 'wb') as f:\n",
    "    pickle.dump(model_features, f)\n",
    "print(f\"Feature list saved to model_features.pkl\")"
   ]
  },
  {
   "cell_type": "code",
   "execution_count": null,
   "id": "6fdcc765",
   "metadata": {},
   "outputs": [],
   "source": []
  }
 ],
 "metadata": {
  "kernelspec": {
   "display_name": "base",
   "language": "python",
   "name": "python3"
  },
  "language_info": {
   "codemirror_mode": {
    "name": "ipython",
    "version": 3
   },
   "file_extension": ".py",
   "mimetype": "text/x-python",
   "name": "python",
   "nbconvert_exporter": "python",
   "pygments_lexer": "ipython3",
   "version": "3.13.5"
  }
 },
 "nbformat": 4,
 "nbformat_minor": 5
}
