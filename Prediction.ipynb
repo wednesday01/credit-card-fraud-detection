{
 "cells": [
  {
   "cell_type": "code",
   "execution_count": 10,
   "id": "51d518bf",
   "metadata": {},
   "outputs": [
    {
     "name": "stdout",
     "output_type": "stream",
     "text": [
      "Libraries and helper function loaded.\n"
     ]
    }
   ],
   "source": [
    "import pandas as pd\n",
    "import numpy as np\n",
    "import pickle\n",
    "from sklearn.preprocessing import LabelEncoder\n",
    "import warnings\n",
    "warnings.filterwarnings(\"ignore\") \n",
    "\n",
    "# --- Haversine Function (Must be identical to preprocessing) ---\n",
    "def haversine(lat1, lon1, lat2, lon2):\n",
    "    lat1, lon1, lat2, lon2 = map(np.radians, [lat1, lon1, lat2, lon2])\n",
    "    dlon = lon2 - lon1 \n",
    "    dlat = lat2 - lat1 \n",
    "    a = np.sin(dlat/2)**2 + np.cos(lat1) * np.cos(lat2) * np.sin(dlon/2)**2\n",
    "    c = 2 * np.arctan2(np.sqrt(a), np.sqrt(1-a))\n",
    "    r = 6371 # Radius of earth in kilometers.\n",
    "    return c * r\n",
    "\n",
    "print(\"Libraries and helper function loaded.\")"
   ]
  },
  {
   "cell_type": "code",
   "execution_count": 11,
   "id": "92912ddb",
   "metadata": {},
   "outputs": [
    {
     "name": "stdout",
     "output_type": "stream",
     "text": [
      "Model, Scaler, and Feature List loaded successfully.\n"
     ]
    }
   ],
   "source": [
    "# --- 1. Load Saved Tools ---\n",
    "MODEL_FILE = 'rf_model.pkl'\n",
    "SCALER_FILE = 'scaler.pkl'\n",
    "FEATURES_FILE = 'model_features.pkl' # <-- Added this\n",
    "\n",
    "try:\n",
    "    with open(MODEL_FILE, 'rb') as f:\n",
    "        model = pickle.load(f)\n",
    "    with open(SCALER_FILE, 'rb') as f:\n",
    "        scaler = pickle.load(f)\n",
    "    with open(FEATURES_FILE, 'rb') as f: # <-- Added this block\n",
    "        model_features = pickle.load(f)\n",
    "        \n",
    "    print(\"Model, Scaler, and Feature List loaded successfully.\")\n",
    "except FileNotFoundError:\n",
    "    print(\"Error: Model/Scaler/Features files not found. Run '2_Model_Training.ipynb' first.\")"
   ]
  },
  {
   "cell_type": "code",
   "execution_count": 12,
   "id": "90c049da",
   "metadata": {},
   "outputs": [
    {
     "name": "stdout",
     "output_type": "stream",
     "text": [
      "New data 'fraudTrain.csv' loaded. Shape: (1296675, 23)\n",
      "Applying preprocessing steps...\n",
      "Preprocessing complete.\n"
     ]
    }
   ],
   "source": [
    "# --- 2. Load and Process New Data ---\n",
    "RAW_DATA_FILE = \"fraudTrain.csv\" \n",
    "try:\n",
    "    df_new = pd.read_csv(RAW_DATA_FILE)\n",
    "    print(f\"New data '{RAW_DATA_FILE}' loaded. Shape: {df_new.shape}\")\n",
    "except FileNotFoundError:\n",
    "    print(f\"Error: '{RAW_DATA_FILE}' not found.\")\n",
    "\n",
    "# --- START FEATURE ENGINEERING (Must match notebook 1) ---\n",
    "print(\"Applying preprocessing steps...\")\n",
    "\n",
    "# A: Time & Date Features\n",
    "df_new['trans_date_trans_time'] = pd.to_datetime(df_new['trans_date_trans_time'])\n",
    "df_new['hour'] = df_new['trans_date_trans_time'].dt.hour\n",
    "df_new['day_of_week'] = df_new['trans_date_trans_time'].dt.dayofweek\n",
    "df_new['month'] = df_new['trans_date_trans_time'].dt.month\n",
    "\n",
    "# B: Age Feature\n",
    "df_new['dob'] = pd.to_datetime(df_new['dob'])\n",
    "df_new['age'] = (df_new['trans_date_trans_time'] - df_new['dob']).dt.days / 365.25\n",
    "df_new['age'] = df_new['age'].astype(int)\n",
    "\n",
    "# C: Location Distance Feature\n",
    "df_new['distance_km'] = haversine(df_new['lat'], df_new['long'], df_new['merch_lat'], df_new['merch_long'])\n",
    "\n",
    "# D: Encode 'gender'\n",
    "le = LabelEncoder()\n",
    "df_new['gender'] = le.fit_transform(df_new['gender'])\n",
    "\n",
    "# E: One-Hot Encode 'category' and 'state'\n",
    "df_new = pd.get_dummies(df_new, columns=['category', 'state'], drop_first=True, dtype=int)\n",
    "\n",
    "print(\"Preprocessing complete.\")"
   ]
  },
  {
   "cell_type": "code",
   "execution_count": 13,
   "id": "b9fd7e02",
   "metadata": {},
   "outputs": [
    {
     "name": "stdout",
     "output_type": "stream",
     "text": [
      "Aligning to 73 features...\n",
      "Columns aligned. Shape for prediction: (1296675, 73)\n",
      "New data scaled.\n"
     ]
    }
   ],
   "source": [
    "# --- 3. Align Columns ---\n",
    "# We now use the list we loaded from the file:\n",
    "print(f\"Aligning to {len(model_features)} features...\")\n",
    "\n",
    "# Create a new dataframe with the correct columns, in order, filled with 0s\n",
    "X_predict = pd.DataFrame(columns=model_features, index=df_new.index)\n",
    "X_predict = X_predict.fillna(0)\n",
    "\n",
    "# Fill in the columns we have\n",
    "for col in model_features:\n",
    "    if col in df_new.columns:\n",
    "        X_predict[col] = df_new[col]\n",
    "        \n",
    "print(f\"Columns aligned. Shape for prediction: {X_predict.shape}\")\n",
    "\n",
    "# --- 4. Scale Data ---\n",
    "# Use the *loaded* scaler (do NOT .fit() again!)\n",
    "X_predict_scaled = scaler.transform(X_predict)\n",
    "print(\"New data scaled.\")"
   ]
  },
  {
   "cell_type": "code",
   "execution_count": 14,
   "id": "1b93541f",
   "metadata": {},
   "outputs": [
    {
     "name": "stdout",
     "output_type": "stream",
     "text": [
      "Predictions generated.\n",
      "\n",
      "Total transactions analyzed: 1296675\n",
      "Transactions flagged as potential fraud: 7373\n",
      "\n",
      "--- Top 20 Most Likely Fraudulent Transactions ---\n",
      "|           cc_num | merchant                                |       amt |   fraud_probability |   is_fraud_PREDICTED |\n",
      "|-----------------:|:----------------------------------------|----------:|--------------------:|---------------------:|\n",
      "| 3524574586339330 | fraud_Schumm PLC                        | 1210.9100 |              1.0000 |                    1 |\n",
      "| 3524574586339330 | fraud_Kassulke PLC                      |  977.0100 |              1.0000 |                    1 |\n",
      "| 6564459919350820 | fraud_Johnson, Runolfsdottir and Mayer  |  725.6000 |              1.0000 |                    1 |\n",
      "| 3573030041201292 | fraud_Crist, Jakubowski and Littel      |  222.6900 |              1.0000 |                    1 |\n",
      "| 3560725013359375 | fraud_Koepp-Witting                     |  352.6700 |              1.0000 |                    1 |\n",
      "| 4986925034905735 | fraud_Heidenreich PLC                   |  292.1400 |              1.0000 |                    1 |\n",
      "| 3560725013359375 | fraud_McDermott-Weimann                 |  296.8300 |              1.0000 |                    1 |\n",
      "|    4783226709001 | fraud_Lehner, Mosciski and King         |  780.9700 |              1.0000 |                    1 |\n",
      "| 4482427013979020 | fraud_Reichert, Shanahan and Hayes      | 1078.5100 |              1.0000 |                    1 |\n",
      "| 4482427013979020 | fraud_Kihn, Abernathy and Douglas       | 1060.3100 |              1.0000 |                    1 |\n",
      "| 4482427013979020 | fraud_Reichert, Shanahan and Hayes      |  872.1400 |              1.0000 |                    1 |\n",
      "|    4783226709001 | fraud_Quitzon, Green and Bashirian      |  782.8100 |              1.0000 |                    1 |\n",
      "|   36890292963032 | fraud_Greenfelder, Bartoletti and Davis |  842.2700 |              1.0000 |                    1 |\n",
      "|    4783226709001 | fraud_Goodwin-Nitzsche                  |  319.7300 |              1.0000 |                    1 |\n",
      "|   36890292963032 | fraud_Mohr-Bayer                        | 1029.0300 |              1.0000 |                    1 |\n",
      "|  341546199006537 | fraud_Raynor, Reinger and Hagenes       |   20.4500 |              1.0000 |                    1 |\n",
      "| 4922710831011201 | fraud_Ankunding LLC                     | 1001.6300 |              1.0000 |                    1 |\n",
      "| 4922710831011201 | fraud_Schmidt and Sons                  |  898.8100 |              1.0000 |                    1 |\n",
      "| 4922710831011201 | fraud_Block-Parisian                    |  722.1800 |              1.0000 |                    1 |\n",
      "| 4922710831011201 | fraud_Corwin-Gorczany                   |  795.2200 |              1.0000 |                    1 |\n"
     ]
    }
   ],
   "source": [
    "# --- 5. Make Predictions ---\n",
    "predictions = model.predict(X_predict_scaled)\n",
    "probabilities = model.predict_proba(X_predict_scaled)[:, 1]\n",
    "\n",
    "# Add predictions back to the original dataframe for review\n",
    "df_new['is_fraud_PREDICTED'] = predictions\n",
    "df_new['fraud_probability'] = probabilities\n",
    "\n",
    "print(\"Predictions generated.\")\n",
    "\n",
    "# --- 6. Show Results ---\n",
    "# Filter for just the transactions flagged as fraud\n",
    "fraud_alerts = df_new[df_new['is_fraud_PREDICTED'] == 1]\n",
    "\n",
    "print(f\"\\nTotal transactions analyzed: {len(df_new)}\")\n",
    "print(f\"Transactions flagged as potential fraud: {len(fraud_alerts)}\")\n",
    "\n",
    "# Show the top 20 most likely frauds\n",
    "print(\"\\n--- Top 20 Most Likely Fraudulent Transactions ---\")\n",
    "display_cols = ['cc_num', 'merchant', 'amt', 'fraud_probability', 'is_fraud_PREDICTED']\n",
    "print(fraud_alerts.sort_values(by='fraud_probability', ascending=False)\n",
    "      [display_cols].head(20).to_markdown(index=False, floatfmt=\".4f\"))"
   ]
  },
  {
   "cell_type": "code",
   "execution_count": null,
   "id": "f5f79e82",
   "metadata": {},
   "outputs": [],
   "source": []
  }
 ],
 "metadata": {
  "kernelspec": {
   "display_name": "base",
   "language": "python",
   "name": "python3"
  },
  "language_info": {
   "codemirror_mode": {
    "name": "ipython",
    "version": 3
   },
   "file_extension": ".py",
   "mimetype": "text/x-python",
   "name": "python",
   "nbconvert_exporter": "python",
   "pygments_lexer": "ipython3",
   "version": "3.13.5"
  }
 },
 "nbformat": 4,
 "nbformat_minor": 5
}
